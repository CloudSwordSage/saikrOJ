{
 "cells": [
  {
   "cell_type": "markdown",
   "metadata": {},
   "source": [
    "# [1060. A+B problem](https://oj.saikr.com/problem-set/100/task?problem_id=1060)"
   ]
  },
  {
   "cell_type": "code",
   "execution_count": 1,
   "metadata": {},
   "outputs": [
    {
     "name": "stdout",
     "output_type": "stream",
     "text": [
      "3\n"
     ]
    }
   ],
   "source": [
    "m, n = map(int, input().split())\n",
    "\n",
    "print(m + n)"
   ]
  },
  {
   "cell_type": "markdown",
   "metadata": {},
   "source": [
    "# [315. 序列中整数去重](https://oj.saikr.com/problem-set/100/task?problem_id=315)"
   ]
  },
  {
   "cell_type": "code",
   "execution_count": 2,
   "metadata": {},
   "outputs": [
    {
     "name": "stdout",
     "output_type": "stream",
     "text": [
      "10 12 93 75\n"
     ]
    }
   ],
   "source": [
    "n = int(input())\n",
    "lst = map(int, input().split())\n",
    "\n",
    "lst2 = []\n",
    "for i in lst:\n",
    "    if i not in lst2:\n",
    "        lst2.append(i)\n",
    "\n",
    "print(' '.join(map(str, lst2)))"
   ]
  },
  {
   "cell_type": "markdown",
   "metadata": {},
   "source": [
    "# [668. 质因数分解](https://oj.saikr.com/problem-set/100/task?problem_id=668)"
   ]
  },
  {
   "cell_type": "code",
   "execution_count": 7,
   "metadata": {},
   "outputs": [
    {
     "name": "stdout",
     "output_type": "stream",
     "text": [
      "7\n"
     ]
    }
   ],
   "source": [
    "n = int(input())\n",
    "\n",
    "def is_prime(n):\n",
    "    if n == 1:\n",
    "        return False\n",
    "    for i in range(2, int(n ** 0.5) + 1):\n",
    "        if n % i == 0:\n",
    "            return False\n",
    "    return True\n",
    "\n",
    "for i in range(2, int(n**0.5 + 1)):\n",
    "    if is_prime(i):\n",
    "        if n % i == 0:\n",
    "            print(int(n / i))\n",
    "            break"
   ]
  },
  {
   "cell_type": "markdown",
   "metadata": {},
   "source": [
    "# [888. 求平均年龄](https://oj.saikr.com/problem-set/100/task?problem_id=888)"
   ]
  },
  {
   "cell_type": "code",
   "execution_count": 11,
   "metadata": {},
   "outputs": [
    {
     "name": "stdout",
     "output_type": "stream",
     "text": [
      "17.50\n"
     ]
    }
   ],
   "source": [
    "n = int(input())\n",
    "\n",
    "print(f'{sum([int(input()) for _ in range(n)]) / n:.2f}')"
   ]
  },
  {
   "cell_type": "markdown",
   "metadata": {},
   "source": [
    "# [918. 不与最大数相同的数字之和](https://oj.saikr.com/problem-set/100/task?problem_id=918)"
   ]
  },
  {
   "cell_type": "code",
   "execution_count": 12,
   "metadata": {},
   "outputs": [
    {
     "name": "stdout",
     "output_type": "stream",
     "text": [
      "3\n"
     ]
    }
   ],
   "source": [
    "n = int(input())\n",
    "lst = list(map(int, input().split()))\n",
    "\n",
    "max_num = max(lst)\n",
    "while max_num in lst:\n",
    "    lst.remove(max_num)\n",
    "\n",
    "print(sum(lst))"
   ]
  },
  {
   "cell_type": "markdown",
   "metadata": {},
   "source": [
    "# [916. 求出 e 的值](https://oj.saikr.com/problem-set/100/task?problem_id=916)"
   ]
  },
  {
   "cell_type": "code",
   "execution_count": 13,
   "metadata": {},
   "outputs": [
    {
     "name": "stdout",
     "output_type": "stream",
     "text": [
      "2.7182818011\n"
     ]
    }
   ],
   "source": [
    "n = int(input())\n",
    "\n",
    "def factorial(n):\n",
    "    if n == 1:\n",
    "        return 1\n",
    "    else:\n",
    "        return n * factorial(n-1)\n",
    "\n",
    "e = 1\n",
    "for i in range(1, n+1):\n",
    "    e += 1 / factorial(i)\n",
    "\n",
    "print(f'{e:.10f}')"
   ]
  },
  {
   "cell_type": "markdown",
   "metadata": {},
   "source": [
    "# [915. 余数相同问题](https://oj.saikr.com/problem-set/100/task?problem_id=915)"
   ]
  },
  {
   "cell_type": "code",
   "execution_count": 18,
   "metadata": {},
   "outputs": [
    {
     "name": "stdout",
     "output_type": "stream",
     "text": [
      "19\n"
     ]
    }
   ],
   "source": [
    "a, b, c = map(int, input().split())\n",
    "\n",
    "for x in range(2, min(a, b, c) + 1):\n",
    "    if (a % x) == (b % x) == (c % x):\n",
    "        print(x)\n",
    "        break"
   ]
  },
  {
   "cell_type": "markdown",
   "metadata": {},
   "source": [
    "# [914. 年龄与疾病](https://oj.saikr.com/problem-set/100/task?problem_id=914)"
   ]
  },
  {
   "cell_type": "code",
   "execution_count": 21,
   "metadata": {},
   "outputs": [
    {
     "name": "stdout",
     "output_type": "stream",
     "text": [
      "25.00%\n",
      "25.00%\n",
      "16.67%\n",
      "33.33%\n"
     ]
    }
   ],
   "source": [
    "n = int(input())\n",
    "lst = list(map(int, input().split()))\n",
    "\n",
    "lst2 = [0] * 4\n",
    "\n",
    "for i in lst:\n",
    "    if 0 <= i <= 18:\n",
    "        lst2[0] += 1\n",
    "    elif 19 <= i <= 35:\n",
    "        lst2[1] += 1\n",
    "    elif 36 <= i <= 60:\n",
    "        lst2[2] += 1\n",
    "    else:\n",
    "        lst2[3] += 1\n",
    "\n",
    "lst2 = [i / n for i in lst2]\n",
    "\n",
    "print('\\n'.join(f'{i:.2%}' for i in lst2))"
   ]
  },
  {
   "cell_type": "markdown",
   "metadata": {},
   "source": [
    "# [913. 有一门课不及格的学生](https://oj.saikr.com/problem-set/100/task?problem_id=913)"
   ]
  },
  {
   "cell_type": "code",
   "execution_count": 30,
   "metadata": {},
   "outputs": [
    {
     "name": "stdout",
     "output_type": "stream",
     "text": [
      "0\n"
     ]
    }
   ],
   "source": [
    "print(1 if sum(1 for i in map(int, input().split()) if i < 60) == 1 else 0)"
   ]
  },
  {
   "cell_type": "markdown",
   "metadata": {},
   "source": [
    "# [910. 鸡尾酒疗法](https://oj.saikr.com/problem-set/100/task?problem_id=910)"
   ]
  },
  {
   "cell_type": "code",
   "execution_count": 35,
   "metadata": {},
   "outputs": [
    {
     "name": "stdout",
     "output_type": "stream",
     "text": [
      "same\n",
      "worse\n",
      "better\n",
      "same\n"
     ]
    }
   ],
   "source": [
    "n = int(input())\n",
    "\n",
    "n -= 1\n",
    "\n",
    "x, y = map(int, input().split())\n",
    "\n",
    "x = y / x\n",
    "\n",
    "for i in range(n):\n",
    "    x1, y1 = map(int, input().split())\n",
    "    y = y1 / x1\n",
    "    \n",
    "    if y - x > 0.05:\n",
    "        print(\"better\")\n",
    "    elif x - y > 0.05:\n",
    "        print(\"worse\")\n",
    "    else:\n",
    "        print(\"same\")"
   ]
  },
  {
   "cell_type": "markdown",
   "metadata": {},
   "source": [
    "# [908. 与指定数字相同的数的个数](https://oj.saikr.com/problem-set/100/task?problem_id=908)"
   ]
  },
  {
   "cell_type": "code",
   "execution_count": 36,
   "metadata": {},
   "outputs": [
    {
     "name": "stdout",
     "output_type": "stream",
     "text": [
      "2\n"
     ]
    }
   ],
   "source": [
    "n = int(input())\n",
    "lst = list(map(int, input().split()))\n",
    "m = int(input())\n",
    "\n",
    "print(lst.count(m))"
   ]
  },
  {
   "cell_type": "markdown",
   "metadata": {},
   "source": [
    "# [907. 与 7 无关的数](https://oj.saikr.com/problem-set/100/task?problem_id=907)"
   ]
  },
  {
   "cell_type": "code",
   "execution_count": 37,
   "metadata": {},
   "outputs": [
    {
     "name": "stdout",
     "output_type": "stream",
     "text": [
      "2336\n"
     ]
    }
   ],
   "source": [
    "n = int(input())\n",
    "\n",
    "res = 0\n",
    "\n",
    "for i in range(1, n + 1):\n",
    "    if i % 7 != 0 and '7' not in str(i):\n",
    "        res += i ** 2\n",
    "\n",
    "print(res)"
   ]
  },
  {
   "cell_type": "markdown",
   "metadata": {},
   "source": [
    "# [905. 判断一个数能否同时被 3 和 5 整除](https://oj.saikr.com/problem-set/100/task?problem_id=905)"
   ]
  },
  {
   "cell_type": "code",
   "execution_count": 39,
   "metadata": {},
   "outputs": [
    {
     "name": "stdout",
     "output_type": "stream",
     "text": [
      "YES\n"
     ]
    }
   ],
   "source": [
    "print('YES' if int(input()) % 15 == 0 else 'NO')"
   ]
  },
  {
   "cell_type": "markdown",
   "metadata": {},
   "source": [
    "# [904. 数字统计](https://oj.saikr.com/problem-set/100/task?problem_id=904)"
   ]
  },
  {
   "cell_type": "code",
   "execution_count": 41,
   "metadata": {},
   "outputs": [
    {
     "name": "stdout",
     "output_type": "stream",
     "text": [
      "20\n"
     ]
    }
   ],
   "source": [
    "a, b = map(int, input().split())\n",
    "\n",
    "print(''.join(str(i) for i in range(a, b + 1)).count('2'))"
   ]
  },
  {
   "cell_type": "markdown",
   "metadata": {},
   "source": [
    "# [903. 人口增长问题](https://oj.saikr.com/problem-set/100/task?problem_id=903)"
   ]
  },
  {
   "cell_type": "code",
   "execution_count": 48,
   "metadata": {},
   "outputs": [
    {
     "name": "stdout",
     "output_type": "stream",
     "text": [
      "13.1306\n"
     ]
    }
   ],
   "source": [
    "x, n = map(int, input().split())\n",
    "\n",
    "print(f'{x * (1 + 0.1 / 100) ** n:.4f}')"
   ]
  },
  {
   "cell_type": "markdown",
   "metadata": {},
   "source": [
    "# [902. 整数的个数](https://oj.saikr.com/problem-set/100/task?problem_id=902)"
   ]
  },
  {
   "cell_type": "code",
   "execution_count": 49,
   "metadata": {},
   "outputs": [
    {
     "name": "stdout",
     "output_type": "stream",
     "text": [
      "1\n",
      "2\n",
      "1\n"
     ]
    }
   ],
   "source": [
    "n = int(input())\n",
    "lst = [*map(int, input().split())]\n",
    "\n",
    "print(lst.count(1))\n",
    "print(lst.count(5))\n",
    "print(lst.count(10))"
   ]
  },
  {
   "cell_type": "markdown",
   "metadata": {},
   "source": [
    "# [901. 满足条件的数累加](https://oj.saikr.com/problem-set/100/task?problem_id=901)"
   ]
  },
  {
   "cell_type": "code",
   "execution_count": 50,
   "metadata": {},
   "outputs": [
    {
     "name": "stdout",
     "output_type": "stream",
     "text": [
      "204\n"
     ]
    }
   ],
   "source": [
    "m, n = map(int, input().split())\n",
    "\n",
    "print(sum(i for i in range(m, n + 1) if i % 17 == 0))"
   ]
  },
  {
   "cell_type": "markdown",
   "metadata": {},
   "source": [
    "# [899. 乘方计算](https://oj.saikr.com/problem-set/100/task?problem_id=899)"
   ]
  },
  {
   "cell_type": "code",
   "execution_count": 62,
   "metadata": {},
   "outputs": [
    {
     "name": "stdout",
     "output_type": "stream",
     "text": [
      "8\n"
     ]
    }
   ],
   "source": [
    "a, n = map(int, input().split())\n",
    "\n",
    "def quick_pow(a, n):\n",
    "    res = 1\n",
    "    while n:\n",
    "        if n % 2 == 1:\n",
    "            res *= a\n",
    "        a *= a\n",
    "        n >>= 1\n",
    "    return res\n",
    "\n",
    "print(quick_pow(a, n))"
   ]
  },
  {
   "cell_type": "markdown",
   "metadata": {},
   "source": [
    "# [1593. 春游](https://oj.saikr.com/problem-set/100/task?problem_id=1593)"
   ]
  },
  {
   "cell_type": "code",
   "execution_count": null,
   "metadata": {},
   "outputs": [],
   "source": []
  }
 ],
 "metadata": {
  "kernelspec": {
   "display_name": "ML/DL",
   "language": "python",
   "name": "pytorch"
  },
  "language_info": {
   "codemirror_mode": {
    "name": "ipython",
    "version": 3
   },
   "file_extension": ".py",
   "mimetype": "text/x-python",
   "name": "python",
   "nbconvert_exporter": "python",
   "pygments_lexer": "ipython3",
   "version": "3.11.4"
  }
 },
 "nbformat": 4,
 "nbformat_minor": 2
}
